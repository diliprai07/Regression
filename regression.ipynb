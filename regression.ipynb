{
  "nbformat": 4,
  "nbformat_minor": 0,
  "metadata": {
    "colab": {
      "provenance": [],
      "gpuType": "V28",
      "authorship_tag": "ABX9TyMFg/PRlZBftuzvjhum7894",
      "include_colab_link": true
    },
    "kernelspec": {
      "name": "python3",
      "display_name": "Python 3"
    },
    "language_info": {
      "name": "python"
    },
    "accelerator": "TPU"
  },
  "cells": [
    {
      "cell_type": "markdown",
      "metadata": {
        "id": "view-in-github",
        "colab_type": "text"
      },
      "source": [
        "<a href=\"https://colab.research.google.com/github/diliprai07/Regression/blob/main/regression.ipynb\" target=\"_parent\"><img src=\"https://colab.research.google.com/assets/colab-badge.svg\" alt=\"Open In Colab\"/></a>"
      ]
    },
    {
      "cell_type": "code",
      "execution_count": null,
      "metadata": {
        "id": "TdRUmQTYQUZx"
      },
      "outputs": [],
      "source": []
    },
    {
      "cell_type": "code",
      "source": [
        "import numpy as np\n",
        "import pandas as pd\n",
        "from sklearn.model_selection import train_test_split\n",
        "from sklearn.linear_model import LinearRegression\n",
        "from sklearn.metrics import mean_squared_error\n",
        "import requests\n",
        "import io\n"
      ],
      "metadata": {
        "id": "4YZhKlvARFU0"
      },
      "execution_count": 9,
      "outputs": []
    },
    {
      "cell_type": "code",
      "source": [
        "\n",
        "# Step 3: Load Iris Dataset from Internet\n",
        "# Load the dataset from its URL\n",
        "url = \"https://archive.ics.uci.edu/ml/machine-learning-databases/iris/iris.data\"\n",
        "response = requests.get(url)\n"
      ],
      "metadata": {
        "id": "mqi3knB0RH40"
      },
      "execution_count": 4,
      "outputs": []
    },
    {
      "cell_type": "code",
      "source": [
        "# Extract the content of the response\n",
        "data_content = response.content.decode('utf-8')\n"
      ],
      "metadata": {
        "id": "l8mobpO9p8Ee"
      },
      "execution_count": 5,
      "outputs": []
    },
    {
      "cell_type": "code",
      "source": [
        "# Parse the content into a pandas DataFrame\n",
        "iris_df = pd.read_csv(io.StringIO(data_content), header=None, names=['sepal_length', 'sepal_width', 'petal_length', 'petal_width', 'species'])\n"
      ],
      "metadata": {
        "id": "cbZj1pNlqAH7"
      },
      "execution_count": 10,
      "outputs": []
    },
    {
      "cell_type": "code",
      "source": [
        "# For simplicity, we'll use only two features: sepal length as the predictor and petal length as the target\n",
        "X = iris_df[['sepal_length']]  # Feature (predictor)\n",
        "y = iris_df['petal_length']    # Target variable\n"
      ],
      "metadata": {
        "id": "TgucKHedq1xG"
      },
      "execution_count": 11,
      "outputs": []
    },
    {
      "cell_type": "code",
      "source": [
        "# Step 4: Split Data\n",
        "# Splitting data into training and testing sets (80% train, 20% test)\n",
        "X_train, X_test, y_train, y_test = train_test_split(X, y, test_size=0.2, random_state=42)"
      ],
      "metadata": {
        "id": "ZfHMgG5krU_9"
      },
      "execution_count": 12,
      "outputs": []
    },
    {
      "cell_type": "code",
      "source": [
        "# Step 5: Train Model\n",
        "# Creating and training a linear regression model\n",
        "model = LinearRegression()\n",
        "model.fit(X_train, y_train)\n",
        "\n",
        "# Step 6: Evaluate Model\n",
        "# Predictions on the testing set\n",
        "predictions = model.predict(X_test)\n",
        "\n",
        "# Calculating Mean Squared Error\n",
        "mse = mean_squared_error(y_test, predictions)\n",
        "print('Mean Squared Error:', mse)\n",
        "\n",
        "# Printing the coefficients\n",
        "print('Intercept:', model.intercept_)\n",
        "print('Coefficient:', model.coef_)"
      ],
      "metadata": {
        "colab": {
          "base_uri": "https://localhost:8080/"
        },
        "id": "N5VT8nffrYx5",
        "outputId": "8e859504-c357-489d-87b8-d59efac5f3b6"
      },
      "execution_count": 13,
      "outputs": [
        {
          "output_type": "stream",
          "name": "stdout",
          "text": [
            "Mean Squared Error: 0.5965145177566363\n",
            "Intercept: -6.919754643134638\n",
            "Coefficient: [1.83283683]\n"
          ]
        }
      ]
    },
    {
      "cell_type": "code",
      "source": [
        "# Example usage of the trained model\n",
        "# Suppose you have a new data point with sepal length of 5.0 (cm)\n",
        "new_data = [[1.0]]\n",
        "\n",
        "# Use the trained model to make predictions on the new data\n",
        "predicted_petal_length = model.predict(new_data)\n",
        "\n",
        "# Print the predicted petal length\n",
        "print(\"Predicted petal length:\", predicted_petal_length)"
      ],
      "metadata": {
        "colab": {
          "base_uri": "https://localhost:8080/"
        },
        "id": "sMZtwbWNrexh",
        "outputId": "311ead04-c3bc-430b-e8f9-236a2a126e2e"
      },
      "execution_count": 19,
      "outputs": [
        {
          "output_type": "stream",
          "name": "stdout",
          "text": [
            "Predicted petal length: [-5.08691781]\n"
          ]
        },
        {
          "output_type": "stream",
          "name": "stderr",
          "text": [
            "/usr/local/lib/python3.10/dist-packages/sklearn/base.py:439: UserWarning: X does not have valid feature names, but LinearRegression was fitted with feature names\n",
            "  warnings.warn(\n"
          ]
        }
      ]
    },
    {
      "cell_type": "code",
      "source": [],
      "metadata": {
        "id": "UKU8GSXpshKP"
      },
      "execution_count": null,
      "outputs": []
    }
  ]
}